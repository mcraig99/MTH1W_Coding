{
  "metadata": {
    "language_info": {
      "codemirror_mode": {
        "name": "python",
        "version": 3
      },
      "file_extension": ".py",
      "mimetype": "text/x-python",
      "name": "python",
      "nbconvert_exporter": "python",
      "pygments_lexer": "ipython3",
      "version": "3.8"
    },
    "kernelspec": {
      "name": "python",
      "display_name": "Python (Pyodide)",
      "language": "python"
    }
  },
  "nbformat_minor": 4,
  "nbformat": 4,
  "cells": [
    {
      "cell_type": "markdown",
      "source": "## Data Analsyis: Anime\n\nWelcome, coders! You've chosen to analyze the anime data set. We will be looking at the data contained in the anime.csv file, which you can check out on the left-hand side of the screen - just make your way back here when you're done.\n\nThis data set contains information on 181 different anime shows, including release data, length, genre, and rating. We're going to look at the ratings for different shows based on their genres.\n\nFirst things first, we're going to have to get Python to read the file and put it into something we can work with - like a list!\n\nRun the kernel below to do this for you.",
      "metadata": {}
    },
    {
      "cell_type": "code",
      "source": "# First we're going to import our helpful Python libraries\n\nimport numpy as np\nimport csv\nfrom matplotlib import pyplot as plt\n\n# We start by creating a blank list called master that we will be able to add to as the csv reader goes through the file\n\nmaster = []\n\n# Then we open the file using the csv reader and use next() to skip over the header line\n\nwith open('anime.csv', newline='') as csvfile:\n    file = csv.reader(csvfile)\n    next(file)\n# Now we use a for loop to iterate through the file.  This reads each row as a separate item.\n\n    for row in file:\n\n# We use the append method on the master list to add each row as a list item as we iterate through the file.\n        \n        master.append(row)",
      "metadata": {
        "trusted": true
      },
      "execution_count": 35,
      "outputs": []
    },
    {
      "cell_type": "markdown",
      "source": "Now, let's see what we're working with. In the kernel below, use the print function to print the master list.",
      "metadata": {}
    },
    {
      "cell_type": "code",
      "source": "# Enter code here\nprint(master)",
      "metadata": {
        "trusted": true
      },
      "execution_count": 12,
      "outputs": [
        {
          "name": "stdout",
          "text": "[['Fullmetal Alchemist: Brotherhood', '(2009-2010)', '24 min', 'Animation, Action, Adventure', '9.1'], ['Attack on Titan', '(2013-2023)', '24 min', 'Animation, Action, Adventure', '9'], ['Hunter x Hunter', '(2011-2014)', '24 min', 'Animation, Action, Adventure', '9'], ['Bleach: Thousand-Year Blood War', '(2022- )', '24 min', 'Animation, Action, Adventure', '9'], ['Ginga eiyû densetsu', '(1988-1997)', '25 min', 'Animation, Action, Drama', '9'], ['One Piece', '(1999- )', '24 min', 'Animation, Action, Adventure', '8.9'], ['Ölüm Defteri', '(2006-2007)', '851 min', 'Animation, Crime, Drama', '8.9'], ['Cowboy Bebop', '(1998-1999)', '650 min', 'Animation, Action, Adventure', '8.9'], ['Ginga: Nagareboshi Gin', '-1986.0', '25 min', 'Animation, Action, Adventure', '8.9'], ['Vinland Saga', '(2019-2023)', '24 min', 'Animation, Action, Adventure', '8.8'], ['Dragon Ball Z', '(1989-1996)', '24 min', 'Animation, Action, Adventure', '8.8'], ['Steins;Gate', '(2011-2015)', '24 min', 'Animation, Comedy, Drama', '8.8'], ['Naruto: Shippûden', '(2007-2017)', '24 min', 'Animation, Action, Adventure', '8.7'], ['One Punch Man: Wanpanman', '(2015-2019)', '24 min', 'Animation, Action, Comedy', '8.7'], ['Kenpuu Denki Berserk', '(1997-1998)', '23 min', 'Animation, Action, Adventure', '8.7'], ['Monster', '(2004-2005)', '24 min', 'Animation, Crime, Drama', '8.7'], ['Haikyuu!!', '(2014-2020)', '24 min', 'Animation, Comedy, Drama', '8.7'], ['Gintama', '(2005-2021)', '25 min', 'Animation, Action, Comedy', '8.7'], ['Code Geass: Lelouch of the Rebellion', '(2006-2008)', '24 min', 'Animation, Action, Drama', '8.7'], ['Jujutsu Kaisen', '(2020- )', '24 min', 'Animation, Action, Adventure', '8.6'], ['Demon Slayer: Kimetsu no Yaiba', '(2019- )', '24 min', 'Animation, Action, Adventure', '8.6'], ['Mob Psycho 100', '(2016-2022)', '24 min', 'Animation, Action, Comedy', '8.6'], ['Fruits Basket', '(2019-2021)', '24 min', 'Animation, Comedy, Drama', '8.6'], [\"JoJo's Bizarre Adventure\", '(2012- )', '24 min', 'Animation, Action, Adventure', '8.5'], ['The End of Evangelion', '(1995-1996)', '24 min', 'Animation, Action, Drama', '8.5'], ['Kaguya-sama: Love is War', '(2019-2023)', '24 min', 'Animation, Comedy, Romance', '8.5'], ['Fullmetal Alchemist', '(2003-2004)', '24 min', 'Animation, Action, Adventure', '8.5'], ['Saint Seiya', '(1986-1989)', '24 min', 'Animation, Action, Adventure', '8.5'], ['Ôsama Ranking', '(2021-2022)', '23 min', 'Animation, Action, Adventure', '8.5'], ['Nana', '(2006-2007)', '21 min', 'Animation, Comedy, Drama', '8.5'], ['Kingdom', '(2012- )', '25 min', 'Animation, Action, Drama', '8.5'], ['Kôkaku kidôtai: Stand Alone Complex', '(2002-2005)', '24 min', 'Animation, Action, Crime', '8.5'], ['Robotech', '-1985.0', '30 min', 'Animation, Action, Adventure', '8.5'], ['Naruto', '(2002-2007)', '24 min', 'Animation, Action, Adventure', '8.4'], ['Spy x Family', '(2022- )', '24 min', 'Animation, Action, Comedy', '8.4'], ['Chainsaw Man', '(2022- )', '25 min', 'Animation, Action, Adventure', '8.4'], ['Mushoku-tensei ~Isekai ittara honki dasu~', '(2021- )', '24 min', 'Animation, Action, Adventure', '8.4'], ['Kahramanlık Akademim', '(2016- )', '24 min', 'Animation, Action, Adventure', '8.3'], ['Black Clover', '(2017-2021)', '24 min', 'Animation, Action, Adventure', '8.3'], ['Kiseijû: Sei no kakuritsu', '(2014-2015)', '22 min', 'Animation, Action, Drama', '8.3'], ['Dororo', '-2019.0', '30 min', 'Animation, Action, Adventure', '8.3'], ['Tengen toppa gurren lagann', '-2007.0', '24 min', 'Animation, Action, Adventure', '8.3'], ['The Disastrous Life of Saiki K.', '(2016-2018)', '24 min', 'Animation, Comedy, Fantasy', '8.3'], ['N.H.K ni yôkoso!', '-2006.0', '24 min', 'Animation, Comedy, Drama', '8.3'], ['Bleach: Burîchi', '(2004-2023)', '24 min', 'Animation, Action, Adventure', '8.2'], ['Yakusoku no Neverland', '(2019-2021)', '23 min', 'Animation, Action, Adventure', '8.2'], ['Psycho-Pass', '(2012-2019)', '25 min', 'Animation, Action, Crime', '8.2'], ['Banana Fish', '-2018.0', '22 min', 'Animation, Action, Adventure', '8.2'], ['Kaptan Tsubasa', '(2018-2023)', '22 min', 'Animation, Drama, Family', '8.2'], ['Dr. Stone', '(2019- )', '24 min', 'Animation, Action, Adventure', '8.1'], ['Re:Zero kara Hajimeru Isekai Seikatsu', '(2016- )', '24 min', 'Animation, Adventure, Drama', '8.1'], ['Food Wars: Shokugeki no Soma', '(2015-2020)', '24 min', 'Animation, Comedy, Drama', '8.1'], ['Space Dandy', '-2014.0', '24 min', 'Animation, Adventure, Comedy', '8.1'], ['Tengoku daimakyô', '-2023.0', '24 min', 'Animation, Adventure, Mystery', '8'], ['My Dress-Up Darling', '-2022.0', '24 min', 'Animation, Comedy, Romance', '8'], ['Toradora!', '(2008-2009)', '24 min', 'Animation, Comedy, Drama', '8'], ['Aggretsuko', '(2018-2023)', '15 min', 'Animation, Short, Comedy', '8'], ['SK8 the Infinity', '-2021.0', 'NA', 'Animation, Adventure, Comedy', '8'], ['Oban Star-Racers', '-2006.0', '25 min', 'Animation, Action, Adventure', '8'], ['Tokyo Revengers', '(2021- )', '24 min', 'Animation, Action, Drama', '7.9'], ['Tate no Yuusha no Nariagari', '(2019- )', '24 min', 'Animation, Action, Adventure', '7.9'], ['Fairy Tail', '(2009-2019)', '24 min', 'Animation, Action, Adventure', '7.9'], ['Black Lagoon', '-2006.0', '25 min', 'Animation, Action, Adventure', '7.9'], ['Kiru ra kiru: KILL la KILL', '(2013-2014)', '25 min', 'Animation, Action, Comedy', '7.9'], ['Yahari ore no seishun rabukome wa machigatteiru.', '(2013-2023)', '24 min', 'Animation, Comedy, Drama', '7.9'], ['Ergo Proxy', '-2006.0', '25 min', 'Animation, Action, Adventure', '7.9'], ['Buddy Daddies', '-2023.0', '24 min', 'Animation, Action, Comedy', '7.9'], ['Sukippu to rôfâ', '-2023.0', '23 min', 'Animation, Comedy, Drama', '7.9'], ['Kage no Jitsuryokusha ni Naritakute!', '(2022- )', '24 min', 'Animation, Action, Adventure', '7.8'], ['The Seven Deadly Sins', '(2014-2021)', '24 min', 'Animation, Action, Adventure', '7.8'], ['Watashi no Shiawase na Kekkon', '(2023- )', 'NA', 'Animation, Drama, Fantasy', '7.8'], ['Akame ga Kill!', '-2014.0', '24 min', 'Animation, Action, Adventure', '7.8'], [\"KonoSuba - God's blessing on this wonderful world!!\", '(2016-2023)', '24 min', 'Animation, Adventure, Comedy', '7.8'], ['Noragami', '(2014-2015)', '24 min', 'Animation, Action, Adventure', '7.8'], ['Higurashi no naku koro ni', '-2006.0', '24 min', 'Animation, Drama, Horror', '7.8'], ['Kimi ni todoke', '(2009-2011)', '24 min', 'Animation, Comedy, Drama', '7.8'], ['Durarara!!', '-2010.0', '24 min', 'Animation, Action, Comedy', '7.8'], ['ReLIFE', '(2016-2018)', '24 min', 'Animation, Comedy, Drama', '7.8'], ['Küçük Cadı Akademisi', '-2017.0', '25 min', 'Animation, Adventure, Comedy', '7.8'], ['Ôkami to kôshinryô', '(2008-2009)', '24 min', 'Animation, Adventure, Drama', '7.8'], ['Yôkoso jitsuryoku shijô shugi no kyôshitsu e', '(2017- )', '24 min', 'Animation, Drama, Thriller', '7.7'], ['Overlord', '(2015-2022)', '30 min', 'Animation, Action, Adventure', '7.7'], [\"Dota: Dragon's Blood\", '(2021- )', '25 min', 'Animation, Action, Adventure', '7.7'], ['Beastars', '(2019- )', '23 min', 'Animation, Crime, Drama', '7.7'], ['Go-Toubun no Hanayome', '(2019-2021)', '24 min', 'Animation, Comedy, Drama', '7.7'], ['Mairimashita! Iruma-kun', '(2019-2023)', '23 min', 'Animation, Comedy, Drama', '7.7'], ['Karakai Jouzu no Takagi-san', '(2018-2022)', '23 min', 'Animation, Comedy, Romance', '7.7'], ['Sakurasou no Pet na Kanojo', '(2012-2013)', '24 min', 'Animation, Comedy, Drama', '7.7'], ['High School DxD', '(2012-2018)', '23 min', 'Animation, Action, Comedy', '7.6'], ['Fire Force', '(2019- )', '23 min', 'Animation, Action, Drama', '7.6'], ['Kangoku gakuen', '(2015-2016)', '24 min', 'Animation, Comedy', '7.6'], ['Tomo-chan Is a Girl!', '-2023.0', '23 min', 'Animation, Comedy, Drama', '7.6'], ['Romantic Killer', '-2022.0', '24 min', 'Animation, Comedy, Fantasy', '7.6'], ['Lycoris Recoil', '-2022.0', '24 min', 'Animation, Action, Comedy', '7.6'], ['Battle of the Planets', '(1978-1980)', '30 min', 'Animation, Action, Adventure', '7.6'], ['Full Metal Panic!', '(2002-2006)', '24 min', 'Animation, Action, Adventure', '7.6'], ['Dejimon Teimâzu', '(2001-2002)', 'NA', 'Animation, Action, Adventure', '7.6'], ['Goblin Slayer', '(2018- )', '30 min', 'Animation, Action, Adventure', '7.5'], ['Sword Art Online', '(2012- )', '24 min', 'Animation, Action, Adventure', '7.5'], ['Mirai nikki', '(2011-2013)', '25 min', 'Animation, Action, Drama', '7.5'], ['Otonari no tenshi-sama ni itsu no ma ni ka dame-ningen ni sareteita ken', '-2023.0', 'NA', 'Animation, Comedy, Romance', '7.5'], ['Kidô senshi Gandamu: Suisei no majo', '(2022-2023)', '22 min', 'Animation, Action, Drama', '7.5'], ['To aru kagaku no rêrugan', '(2009-2020)', '24 min', 'Animation, Action, Comedy', '7.5'], ['Ao Haru Ride', '-2014.0', '122 min', 'Animation, Comedy, Drama', '7.5'], ['Beelzebub', '(2011-2012)', 'NA', 'Animation, Action, Comedy', '7.5'], ['Dungeon ni Deai wo Motomeru no wa Machigatteiru Darou ka', '(2015-2023)', '24 min', 'Animation, Action, Adventure', '7.4'], ['Call of the Night', '-2022.0', '23 min', 'Animation, Comedy, Fantasy', '7.4'], ['Fuufu Ijou, Koibito Miman.', '-2022.0', '24 min', 'Animation, Comedy, Drama', '7.4'], ['Astro Boy', '(1963-1965)', '30 min', 'Animation, Action, Adventure', '7.4'], ['Free!', '(2013-2018)', '24 min', 'Animation, Comedy, Drama', '7.4'], ['Itai no wa Iya nano de Bougyoryoku ni Kyokufuri Shitai to Omoimasu', '(2020-2023)', '23 min', 'Animation, Action, Adventure', '7.4'], ['Dejimon adobenchâ 02', '(2000-2001)', '30 min', 'Animation, Action, Adventure', '7.4'], ['Mao Gakuin no Futekigosha', '(2020-2023)', '23 min', 'Animation, Adventure, Comedy', '7.3'], ['DARLING in the FRANXX', '-2018.0', '24 min', 'Animation, Action, Drama', '7.3'], ['Animatrix', '-2003.0', '100 min', 'Animation, Action, Sci-Fi', '7.3'], ['Trigun Stampede', '(2023- )', '24 min', 'Animation, Action, Adventure', '7.3'], ['NieR: Automata Ver 1.1a', '(2023- )', '23 min', 'Animation, Action, Adventure', '7.3'], ['Sekirei', '(2008-2010)', '23 min', 'Animation, Action, Comedy', '7.3'], ['Otomege Sekai wa Mob ni Kibishii Sekai Desu', '(2022- )', '23 min', 'Animation, Comedy, Fantasy', '7.3'], ['Senpai ga Uzai Kouhai no Hanashi', '-2021.0', 'NA', 'Animation, Comedy, Romance', '7.3'], ['Kami nomi zo Shiru Sekai', '(2010-2013)', '24 min', 'Animation, Comedy, Romance', '7.3'], ['Itazura na Kiss', '-2008.0', '24 min', 'Animation, Comedy, Drama', '7.3'], ['Mieruko-chan', '-2021.0', '24 min', 'Animation, Comedy, Fantasy', '7.2'], [\"Don't Toy with Me, Miss Nagatoro\", '(2021-2023)', '24 min', 'Animation, Comedy, Romance', '7.2'], ['Sora no otoshimono', '(2009-2010)', 'NA', 'Animation, Action, Comedy', '7.2'], ['Kekkai Sensen', '(2015-2017)', '24 min', 'Animation, Action, Adventure', '7.2'], ['Nisekoi', '(2014-2016)', '25 min', 'Animation, Comedy, Romance', '7.2'], ['Deadman Wonderland', '-2011.0', '24 min', 'Animation, Action, Drama', '7.1'], ['Kakegurui', '(2017-2019)', '24 min', 'Animation, Drama, Mystery', '7.1'], ['Hanyô no Yashahime', '(2020- )', 'NA', 'Animation, Action, Adventure', '7.1'], ['Btooom!', '-2012.0', '25 min', 'Animation, Action, Drama', '7.1'], ['Zombieland Saga', '(2018- )', '24 min', 'Animation, Comedy, Fantasy', '7.1'], ['Air Gear', '(2006-2008)', '25 min', 'Animation, Action, Comedy', '7.1'], ['Kanojo, Okarishimasu', '(2020-2023)', '23 min', 'Animation, Comedy, Romance', '7'], ['Isekai Mao to Shokan Shojo no Dorei Majutsu', '(2018-2021)', '24 min', 'Animation, Adventure, Comedy', '7'], ['Boku wa tomodachi ga sukunai', '(2011-2013)', '25 min', 'Animation, Comedy, Drama', '7'], ['Saenai hiroin no sodatekata', '(2015-2017)', '24 min', 'Animation, Comedy, Drama', '7'], ['Giruti kuraun: Guilty Crown', '(2011-2012)', '23 min', 'Animation, Action, Crime', '7'], ['Ore wo Suki nano wa Omae dake ka yo', '(2019-2020)', '24 min', 'Animation, Comedy, Drama', '7'], ['Thermae Romae Novae', '-2022.0', '30 min', 'Animation, Comedy, Fantasy', '7'], ['Majo no Tabitabi', '(2020- )', '24 min', 'Animation, Adventure, Fantasy', '7'], ['Jaku-chara Tomozaki-kun', '(2021- )', '24 min', 'Animation, Comedy, Drama', '7'], ['Shakugan no Shana', '(2005-2010)', 'NA', 'Animation, Action, Adventure', '7'], ['Amagi Brilliant Park', '(2014-2015)', '24 min', 'Animation, Comedy, Fantasy', '7'], ['Black Cat', '(2005-2006)', '25 min', 'Animation, Action, Crime', '7'], ['Date a Live', '(2013- )', '25 min', 'Animation, Action, Comedy', '6.9'], ['Rozario to banpaia', '-2008.0', '25 min', 'Animation, Comedy, Fantasy', '6.9'], ['Kore wa Zombie desu ka?', '(2011-2012)', '25 min', 'Animation, Action, Comedy', '6.9'], ['Ultraman', '(2019-2023)', '25 min', 'Animation, Action, Adventure', '6.8'], ['Danganronpa: Kibô no gakuen to zetsubô no kôkôsei - The animation', '-2013.0', '25 min', 'Animation, Action, Crime', '6.8'], ['Spriggan', '-2022.0', '45 min', 'Animation, Action, Adventure', '6.8'], ['Kenja no Mago', '-2019.0', '24 min', 'Animation, Action, Adventure', '6.8'], ['To aru majutsu no indekkusu', '(2008-2019)', '23 min', 'Animation, Action, Comedy', '6.8'], ['Saihate no Paladin', '(2021- )', 'NA', 'Animation, Adventure, Drama', '6.7'], ['Trinity Seven: 7-nin no Masho Tsukai', '(2014-2015)', 'NA', 'Animation, Action, Comedy', '6.7'], ['Kakkou no Iinazuke', '-2022.0', '23 min', 'Animation, Comedy, Romance', '6.7'], ['Dejimon furontiâ', '(2002-2003)', 'NA', 'Animation, Action, Adventure', '6.7'], ['Medabots', '(1999-2004)', '30 min', 'Animation, Action, Adventure', '6.7'], ['Monster Musume no Iru Nichijou', '(2015-2017)', '23 min', 'Animation, Comedy, Fantasy', '6.6'], ['Kinsô no Vermeil ~Gakeppuchi majutsushi wa saikyô no yakusai to mahô sekai wo tsukisusumu~', '-2022.0', '24 min', 'Animation, Comedy, Fantasy', '6.6'], ['Kawaii dake ja nai Shikimori-san', '-2022.0', '23 min', 'Animation, Comedy, Drama', '6.6'], ['Eden', '(I) (2021- )', '25 min', 'Animation, Action, Adventure', '6.6'], ['Mega Man', '(1994-1995)', '22 min', 'Animation, Action, Adventure', '6.6'], ['Boruto: Naruto Next Generations', '(2017- )', '23 min', 'Animation, Action, Adventure', '6.5'], ['Bastard‼ -Heavy Metal, Dark Fantasy-', '(2022-2023)', '25 min', 'Animation, Action, Adventure', '6.5'], [\"My Stepmom's Daughter Is My Ex\", '-2022.0', '23 min', 'Animation, Comedy, Romance', '6.5'], ['Hachi-nan tte, Sore wa Nai deshou!', '-2020.0', '24 min', 'Animation, Action, Adventure', '6.5'], ['Record of Ragnarok', '(2021- )', '24 min', 'Animation, Action, Adventure', '6.4'], ['Kaifuku Jutsushi no Yarinaoshi', '-2021.0', '24 min', 'Animation, Action, Adventure', '6.4'], ['Ghost in the Shell SAC_2045', '(2020- )', '25 min', 'Animation, Action, Crime', '6.4'], ['Plunderer', '-2020.0', '24 min', 'Animation, Action, Fantasy', '6.4'], ['Toraburu', '(2008-2010)', '24 min', 'Animation, Action, Comedy', '6.4'], ['Isekai de Cheat Skill wo Te ni Shita Ore wa, Genjitsu Sekai wo mo Musou Suru: Level Up wa Jinsei wo Kaeta', '-2023.0', 'NA', 'Animation, Action, Adventure', '6.4'], ['Ore dake Haireru Kakushi Dungeon', '-2021.0', '24 min', 'Animation, Action, Adventure', '6.4'], [\"I've Been Killing Slimes for 300 Years and Maxed Out My Level\", '(2021- )', '24 min', 'Animation, Action, Adventure', '6.4'], ['Blade Runner: Black Lotus', '(2021-2022)', 'NA', 'Animation, Action, Drama', '6.3'], ['Isekai Meikyuu de Harem o', '-2022.0', '24 min', 'Animation, Action, Adventure', '6.3'], ['Yasuke', '-2021.0', '30 min', 'Animation, Action, Adventure', '6.2'], ['Ikki Tousen', '(2003- )', '325 min', 'Animation, Action, Adventure', '5.9'], ['Bakugan Savaşçıları', '(2007-2011)', '22 min', 'Animation, Action, Adventure', '5.7'], ['Seinto Seiya: Knights of the Zodiac', '(2019-2022)', '24 min', 'Animation, Action, Adventure', '4.6']]\n",
          "output_type": "stream"
        }
      ]
    },
    {
      "cell_type": "markdown",
      "source": "Yikes, that's not very pleasant to look at, but it looks like everything is there (I hope). We don't need a lot of this information though - we're only looking for genres and ratings. So let's clean this up a little bit.\n\nIf we go back to our .csv file, we can see that 'Genre' is the fourth column and 'Rating' is the fifth. Let's try printing just the fourth and fifth indices of the master list.\n\nIn the kernel below, use the print function to display the fourth and fifth indices of master. (Remember: indexing starts at 0!)",
      "metadata": {}
    },
    {
      "cell_type": "code",
      "source": "# Enter code here\n",
      "metadata": {
        "trusted": true
      },
      "execution_count": 16,
      "outputs": []
    },
    {
      "cell_type": "markdown",
      "source": "If you got something that starts with Bleach, you did it right! But... that's not what we're looking for.\n\nWhen we added all of the data to the list, it added each row of the csv file as an item. However, each row also had 5 columns of data, so what we've got now is a bunch of lists within a list. This is ridiculist! (Sorry)\n\nWhat we're looking at now is no longer a flat, one-dimensional list, but a list with two dimensions (kind of like the table we saw the data in). But fret not, Python can help us with that.\n\nNumpy's shape function can tell us the dimensions that we're working with. Run the kernel below to determine the shape of our master list using the shape function.",
      "metadata": {}
    },
    {
      "cell_type": "code",
      "source": "print(np.shape(master))",
      "metadata": {
        "trusted": true
      },
      "execution_count": 10,
      "outputs": [
        {
          "name": "stdout",
          "text": "(182, 5)\n",
          "output_type": "stream"
        }
      ]
    },
    {
      "cell_type": "markdown",
      "source": "Hm, so this tells us that there are 182 list elements (or rows), each with 5 elements of their own (or columns). We want only the fourth and fifth item in each of the 182 elements. We can use a for loop to cycle through each element and put only the items we do want into a new list.\n\nTo reference a range of items, rather than adding them separately, I can use a colon in between two indices. For example,\n\nmy_list.append(row[1:5])\n\nwould add the elements with indices 1 through 4 (notice the 5 in the brackets means up to, but not including index 5) from the row to my_list.\n\nThe for loop is set up for you in the kernel below, but is missing the indices inside the square brackets. Fix the code to include the correct indices and then print the master list. You may move on to the next step when your output includes only the genres and ratings.",
      "metadata": {}
    },
    {
      "cell_type": "code",
      "source": "new_master = []\nfor row in master:\n    new_master.append(row[:])",
      "metadata": {
        "trusted": true
      },
      "execution_count": 43,
      "outputs": []
    },
    {
      "cell_type": "markdown",
      "source": "Well that's a bit better. However, a lot of these have multiple genres attached to them. Let's make a list for each genre that includes every rating associated with that genre. To do this, we'll need to use another for loop to iterate through the new master list, and some conditional statements.\n\nThe loop is created for you in the kernel below, however it's missing the indices. Use the clues to fill in the missing code. \nThen, use the len() function to check the lengths of each of the genre lists. You may proceed when you get the following lengths:\n\n114 85 11 73 48\n\nRemember: This new master list has 181 columns and only **2** rows now.",
      "metadata": {}
    },
    {
      "cell_type": "code",
      "source": "action = []\nadventure = []\nromance = []\ncomedy = []\ndrama = []\n\na = # Insert Genre index\nb = # Insert rating index\n\nfor row in new_master:\n    if 'Action' in row[a]:           \n        action.append(float(row[b]))   \n    if 'Adventure' in row[a]:          \n        adventure.append(float(row[b]))      \n    if 'Romance' in row[a]:\n        romance.append(float(row[b]))\n    if 'Comedy' in row[a]:\n        comedy.append(float(row[b]))\n    if 'Drama' in row[a]:\n        drama.append(float(row[b]))\n        \n# Note that the float() function just converts the strings from the file to numbers so that we can work with them",
      "metadata": {
        "trusted": true
      },
      "execution_count": 44,
      "outputs": [
        {
          "ename": "<class 'SyntaxError'>",
          "evalue": "invalid syntax (<ipython-input-44-3400d87940ac>, line 7)",
          "traceback": [
            "\u001b[0;36m  Cell \u001b[0;32mIn[44], line 7\u001b[0;36m\u001b[0m\n\u001b[0;31m    a = # Insert Genre index\u001b[0m\n\u001b[0m        ^\u001b[0m\n\u001b[0;31mSyntaxError\u001b[0m\u001b[0;31m:\u001b[0m invalid syntax\n"
          ],
          "output_type": "error"
        }
      ]
    },
    {
      "cell_type": "markdown",
      "source": "Awesome! Now let's do a statistical analysis. Use Numpy's quantile function and mean function to print the five-number summaries and means for each genre. Move on to the next step when your output looks like this:\n\nAction:\n\nMin: *number*, Q1: *number*, Median: *number*, Q3: *number*, Max: *number*, Mean: *number*\n\nAdventure: \n\nMin: *number*, Q1: *number*, Median: *number*, Q3: *number*, Max: *number*, Mean: *number*\n\nand so on...",
      "metadata": {}
    },
    {
      "cell_type": "code",
      "source": "# Enter code here",
      "metadata": {},
      "execution_count": null,
      "outputs": []
    },
    {
      "cell_type": "markdown",
      "source": "Great! Now let's plot these all together and see if they match our statistical summaries. \n\nIn the kernel below, first create a new list that has each of the genre lists as an element.\n\nExample: new_list = [genre1, genre2, ...]\n\nThen, create a list called labels with a string for each genre.\n\nExample: labels = ['Genre 1', 'Genre 2', ...]\n\nThen, use Pyplot's boxplot function to plot this new list. Include labels=labels as an input to display the genres on the plot. Use Pyplot's title, xlabel, and ylabel functions to label the graph.",
      "metadata": {}
    },
    {
      "cell_type": "code",
      "source": "# Enter code here",
      "metadata": {
        "trusted": true
      },
      "execution_count": 42,
      "outputs": []
    },
    {
      "cell_type": "markdown",
      "source": "Fantastic work! You may also play around with the customization using the example in the introduction as a guide.\n\nWhen you're happy with your boxplot, call me over to check your work.\n\nHappy coding!",
      "metadata": {}
    }
  ]
}