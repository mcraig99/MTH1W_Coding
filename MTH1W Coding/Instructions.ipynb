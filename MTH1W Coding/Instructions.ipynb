{
  "metadata": {
    "language_info": {
      "codemirror_mode": {
        "name": "python",
        "version": 3
      },
      "file_extension": ".py",
      "mimetype": "text/x-python",
      "name": "python",
      "nbconvert_exporter": "python",
      "pygments_lexer": "ipython3",
      "version": "3.8"
    },
    "kernelspec": {
      "name": "python",
      "display_name": "Python (Pyodide)",
      "language": "python"
    }
  },
  "nbformat_minor": 4,
  "nbformat": 4,
  "cells": [
    {
      "cell_type": "markdown",
      "source": "Hello Grade 9s, and welcome to coding.\n\nTo close out the data unit, we're going to work on analyzing and representing data using Python. We have practiced calculating the measures of central tendency (mean, median, and mode) and measures of spread (range, quartiles, and interquartile range), as well as drawing box-and-whisker plots. \n\nHowever, in real life, a large sample size is required to make conclusions that can be considered representative of the population. Are you really going to want to do all of that by hand if your data set contains hundreds, maybe even thousands of numbers? I know I wouldn't! Not only would that be mind-numbingly awful, but there's also a very high probability you make a mistake somewhere along the line. Luckily, we have computers to do this stuff for us - we just have to know how to use them.\n\nPython can be a very powerful tool for reading, sorting, analyzing, and representing large amounts of data. Today, we're going to create functions that will calculate the mean and five number summaries of a data set, and learn how to create a box-and-whisker plot using Python's matplotlib library.\n\nFirst, complete the intro assignment by opening the \"Introduction\" notebook on the left-hand side of your screen and following the prompts. Don't move on to the next step until you have sucessfully produced the required output, as indicated.\n\nWhen you have finished the intro assignment, call me over to check your work. Once you get the OK, you'll be ready to analyze a large data set of your choice. Your options are:\n\n1. Anime IMDb Ratings by Genre\n2. Car Price by Make\n\nNavigate to the notebook of your choice by opening either the \"Anime\" or \"Cars\" notebook on the left-hand side of your screen (make sure to choose the .ipynb file with an orange icon, not the .csv file). Follow the prompts to read, sort, analyze, and represent the data.\n\nOnce you complete the second portion, call me over the check your work.\n\nGood luck, and happy coding!",
      "metadata": {}
    }
  ]
}