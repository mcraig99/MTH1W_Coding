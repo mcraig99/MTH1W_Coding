{
  "metadata": {
    "language_info": {
      "codemirror_mode": {
        "name": "python",
        "version": 3
      },
      "file_extension": ".py",
      "mimetype": "text/x-python",
      "name": "python",
      "nbconvert_exporter": "python",
      "pygments_lexer": "ipython3",
      "version": "3.8"
    },
    "kernelspec": {
      "name": "python",
      "display_name": "Python (Pyodide)",
      "language": "python"
    }
  },
  "nbformat_minor": 4,
  "nbformat": 4,
  "cells": [
    {
      "cell_type": "markdown",
      "source": "## Data Analsyis: Cars\n\nWelcome, coders! You've chosen to analyze the car data set. We will be looking at the data contained in the cars.csv file, which you can check out on the left-hand side of the screen - just make your way back here when you're done.\n\nThis 2022-2023 data set contains information on over 2500 different cars, including make, model, price, horsepower, fuel efficiency and more. We're going to look at the price of different cars based on their make.\n\nFirst things first, we're going to have to get Python to read the file and put it into something we can work with - like a list!\n\nRun the kernel below to do this for you.",
      "metadata": {}
    },
    {
      "cell_type": "code",
      "source": "# First we're going to import our helpful Python libraries\n\nimport numpy as np\nimport csv\nfrom matplotlib import pyplot as plt\n\n# We start by creating a blank list called master that we will be able to add to as the csv reader goes through the file\nmaster = []\n\n# Then we open the file using the csv reader and use next() to skip over the header line\n\nwith open('cars.csv', newline='') as csvfile:\n    file = csv.reader(csvfile)\n    next(file)\n    \n# Now we use a for loop to iterate through the file.  This reads each row as a separate item.\n\n    for row in file:\n\n# We use the append method on the master list to add each row as a list item as we iterate through the file.\n        \n        master.append(row)\n        ",
      "metadata": {
        "trusted": true
      },
      "execution_count": 36,
      "outputs": []
    },
    {
      "cell_type": "markdown",
      "source": "If we look at our .csv file, we can see that 'Brand' is the second column and 'Price' is the fourth. Let's try printing just the fourth and fifth indices of the master list.\n\nIn the kernel below, use the print function to display the fourth and fifth indices of master. (Remember: indexing starts at 0!)",
      "metadata": {}
    },
    {
      "cell_type": "code",
      "source": "# Enter code here\n",
      "metadata": {
        "trusted": true
      },
      "execution_count": 38,
      "outputs": []
    },
    {
      "cell_type": "markdown",
      "source": "If you got something that starts with ['4', 'Honda', 'HR-V VTi-S 2022'... you did it right! But... that's not what we're looking for.\n\nWhen we added all of the data to the list, it added each row of the csv file as an item. However, each row also had 5 columns of data, so what we've got now is a bunch of lists within a list. This is ridiculist! (Sorry)\n\nWhat we're looking at now is no longer a flat, one-dimensional list, but a list with two dimensions (kind of like the table we saw the data in). But fret not, Python can help us with that.\n\nNumpy's shape function can tell us the dimensions that we're working with. Run the kernel below to determine the shape of our master list using the shape function.",
      "metadata": {}
    },
    {
      "cell_type": "code",
      "source": "print(np.shape(master))",
      "metadata": {
        "trusted": true
      },
      "execution_count": 39,
      "outputs": [
        {
          "name": "stdout",
          "text": "(2602, 76)\n",
          "output_type": "stream"
        }
      ]
    },
    {
      "cell_type": "markdown",
      "source": "Hm, so this tells us that there are 2602 list elements (one for each car), each with 76 elements of their own (one for each different type of data: name, make, price, etc). We want only the second and fourth item in each of the 182 elements. We can use a for loop to cycle through each element and put only the items we do want into a new list.\n\nTo reference a range of items, rather than adding them separately, I can use a colon in between two indices. For example,\n\nmy_list.append(row[1:5])\n\nwould add the elements with indices 1 through 4 (notice the 5 in the brackets means up to, but not including index 5) from the row to my_list.\n\nI can also use a \"step\" by adding another colon. For example,\n\nmy_list.append(row[1:5:2])\n\nwould add every second elements with indices 1 through 4 - i.e. it would add my list[1], skip over my_list [2], add my list[3], and skip over my_list[4].\n\nThe for loop is set up for you in the kernel below, but is missing the indices inside the square brackets. Fix the code to include the correct indices. Then, print just the first element of new_master. You may move on to the next step when you successfully produce an output of ['Honda', '31670']",
      "metadata": {}
    },
    {
      "cell_type": "code",
      "source": "new_master = []\nfor row in master:\n    new_master.append(row[1:4:2])\n\nprint(new_master[0])",
      "metadata": {
        "trusted": true
      },
      "execution_count": 41,
      "outputs": [
        {
          "name": "stdout",
          "text": "['Honda', '31670']\n",
          "output_type": "stream"
        }
      ]
    },
    {
      "cell_type": "markdown",
      "source": "Great! Now, we can get to work. Since we want look at prices by brand, we're going to create separate lists for each brand with their prices. We will do this using another for loop to iterate through our new master list. \n\nThe loop is created for you in the kernel below for the brands Honda, Ford, Jeep, Toyota, and Mazda, however it's missing the indices. Use the clues to fill in the missing code. \nThen, use the len() function to check the lengths of each of the genre lists. You may proceed when you get the following lengths:\n\n60 60 60 60 60\n\nRemember: This new master list has 2602 \"columns\" and only **2** \"rows\" now.",
      "metadata": {}
    },
    {
      "cell_type": "code",
      "source": "honda = []\nford = []\njeep = []\ntoyota = []\nmazda = []\n\na = # Insert Brand index here\nb = # Insert Price index here\n\nfor row in master:\n    if \"Honda\" in row[a]:\n        honda.append(float(row[b]))\n    elif \"Ford\" in row[a]:\n        ford.append(float(row[b]))\n    elif \"Jeep\" in row[a]:\n        jeep.append(float(row[b]))\n    elif \"Toyota\" in row[a]:\n        toyota.append(float(row[b]))\n    elif \"Mazda\" in row[a]:\n        mazda.append(float(row[b]))",
      "metadata": {
        "trusted": true
      },
      "execution_count": 44,
      "outputs": [
        {
          "name": "stdout",
          "text": "60 60 60 60 60\n[31670.0, 28000.0, 25000.0, 27800.0, 26900.0, 25440.0, 29990.0, 65000.0, 46230.0, 33760.0, 31070.0, 33950.0, 32450.0, 40000.0, 36830.0, 37870.0, 32790.0, 31610.0, 41210.0, 37340.0, 28900.0, 25760.0, 33250.0, 28000.0, 18030.0, 16150.0, 16330.0, 14340.0, 16080.0, 14330.0, 31800.0, 28690.0, 26890.0, 23650.0, 23650.0, 30690.0, 28890.0, 24850.0, 27500.0, 28580.0, 15520.0, 18960.0, 44730.0, 16190.0, 21870.0, 41780.0, 38800.0, 39970.0, 27450.0, 32350.0, 26570.0, 25070.0, 23650.0, 26890.0, 25320.0, 44310.0, 23650.0, 34640.0, 33860.0, 33260.0] [36475.0, 59474.0, 74474.0, 51974.0, 65970.0, 38560.0, 30000.0, 109140.0, 59940.0, 45760.0, 55905.0, 79620.0, 77170.0, 67115.0, 50000.0, 55000.0, 35960.0, 28845.0, 29840.0, 34040.0, 38460.0, 52905.0, 51990.0, 47990.0, 36590.0, 27950.0, 24450.0, 505750.0, 502300.0, 500000.0, 349000.0, 68380.0, 70705.0, 34965.0, 52190.0, 58500.0, 47780.0, 46640.0, 39340.0, 37940.0, 43100.0, 27950.0, 34900.0, 58830.0, 45760.0, 50600.0, 44560.0, 45850.0, 61830.0, 37290.0, 33000.0, 46950.0, 56060.0, 34005.0, 52870.0, 52640.0, 50130.0, 44320.0, 24450.0, 30500.0] [107995.0, 95090.0, 34865.0, 50250.0, 98090.0, 62490.0, 71080.0, 68080.0, 44320.0, 33000.0, 38300.0, 37370.0, 30290.0, 55865.0, 42320.0, 59370.0, 77220.0, 74220.0, 71080.0, 68080.0, 55865.0, 50250.0, 65490.0, 62490.0, 34865.0, 34865.0, 67880.0, 65760.0, 104840.0, 29980.0, 28480.0, 93990.0, 89990.0, 110990.0, 98090.0, 91490.0, 58990.0, 30945.0, 72595.0, 72595.0, 55220.0, 51520.0, 51520.0, 69820.0, 69820.0, 59860.0, 65260.0, 80595.0, 62480.0, 55860.0, 33590.0, 77090.0, 62875.0, 60300.0, 60300.0, 42200.0, 42320.0, 40320.0, 29990.0, 34865.0]\n",
          "output_type": "stream"
        }
      ]
    },
    {
      "cell_type": "markdown",
      "source": "Awesome! Now let's do a statistical analysis. Use Numpy's quantile function and mean function to print the five-number summaries and means for each brand. Move on to the next step when your output looks like this:\n\nHonda:\n\nMin: *number*, Q1: *number*, Median: *number*, Q3: *number*, Max: *number*, Mean: *number*\n\nFord: \n\nMin: *number*, Q1: *number*, Median: *number*, Q3: *number*, Max: *number*, Mean: *number*\n\nand so on...",
      "metadata": {}
    },
    {
      "cell_type": "code",
      "source": "# Enter code here",
      "metadata": {
        "trusted": true
      },
      "execution_count": 45,
      "outputs": []
    },
    {
      "cell_type": "markdown",
      "source": "Great! Now let's plot these all together and see if they match our statistical summaries. \n\nIn the kernel below, first create a new list that has each of the genre lists as an element.\n\nExample: new_list = [brand1, brand2, ...]\n\nThen, create a list called labels with a string for each genre.\n\nExample: labels = ['Brand 1', 'Brand 2', ...]\n\nThen, use Pyplot's boxplot function to plot this new list. Include labels=labels as an input to display the genres on the plot. Use Pyplot's title, xlabel, and ylabel functions to label the graph.",
      "metadata": {}
    },
    {
      "cell_type": "code",
      "source": "# Enter code here",
      "metadata": {
        "trusted": true
      },
      "execution_count": 46,
      "outputs": []
    },
    {
      "cell_type": "markdown",
      "source": "Fabulous! You may notice some circles on the graph - these are outliers. Try editing your code above to add showfliers=False as an optional input in the boxplot function and re-run the kernel.",
      "metadata": {}
    },
    {
      "cell_type": "markdown",
      "source": "Wonderful! Now it's your turn to play around with the data. The csv file contains information on many more brands, including:\n\nHonda,\nBMW,\nLexus,\nHyundai,\nToyota,\nKIA,\nNissan,\nAudi,\nChevrolet,\nFord,\nMercedes,\nPorsche,\nInfiniti,\nJaguar,\nCadillac,\nLand Rover,\nJeep,\nVolkswagen,\nMaserati,\nSubaru,\nDodge,\nMazda,\nChrysler,\nAston Martin,\nFerrari,\nLamborghini,\nBugatti,\nBentley,\nRolls Royce,\nMclaren,\nLincoln,\nAlfa Romeo,\nVolvo,\nMINI,\nFiat,\nAcura,\nGenesis,\nBuick,\nGMC,\nand Tesla\n\nI've copy-pasted one of the previous kernels into the kernel below. Try editing this code to extract data on different brands (any brands you'd like), then create a new box plot comparing those.\n\nYou may also play around with the customization using the example in the introduction as a guide.\n\nWhen you're happy with your boxplot, call me over to check your work.\n\nHappy coding!",
      "metadata": {}
    },
    {
      "cell_type": "code",
      "source": "honda = []\nford = []\njeep = []\ntoyota = []\nmazda = []\n\na = # Insert Brand index here\nb = # Insert Price index here\n\nfor row in master:\n    if \"Honda\" in row[a]:\n        honda.append(float(row[b]))\n    elif \"Ford\" in row[a]:\n        ford.append(float(row[b]))\n    elif \"Jeep\" in row[a]:\n        jeep.append(float(row[b]))\n    elif \"Toyota\" in row[a]:\n        toyota.append(float(row[b]))\n    elif \"Mazda\" in row[a]:\n        mazda.append(float(row[b]))",
      "metadata": {},
      "execution_count": null,
      "outputs": []
    }
  ]
}