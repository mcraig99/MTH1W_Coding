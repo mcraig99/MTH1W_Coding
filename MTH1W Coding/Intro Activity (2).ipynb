{
  "metadata": {
    "kernelspec": {
      "name": "python",
      "display_name": "Python (Pyodide)",
      "language": "python"
    },
    "language_info": {
      "codemirror_mode": {
        "name": "python",
        "version": 3
      },
      "file_extension": ".py",
      "mimetype": "text/x-python",
      "name": "python",
      "nbconvert_exporter": "python",
      "pygments_lexer": "ipython3",
      "version": "3.8"
    }
  },
  "nbformat_minor": 4,
  "nbformat": 4,
  "cells": [
    {
      "cell_type": "markdown",
      "source": "## Introduction ##\n\nLet's get familiar with Python's basic functions.\n\nThe print function will print the value we put inside it to the console. I can introduce myself using the print function and an introduction string surrounded by quotation marks. Run the kernel below by pressing the play button (or using Ctrl-Enter on your keyboard) to see how it works.",
      "metadata": {}
    },
    {
      "cell_type": "code",
      "source": "print(\"My Name is Ms. Craig\")",
      "metadata": {
        "trusted": true
      },
      "outputs": [],
      "execution_count": null
    },
    {
      "cell_type": "markdown",
      "source": "Now it's your turn. Use the print function to print your name below.",
      "metadata": {}
    },
    {
      "cell_type": "code",
      "source": "# Enter code here",
      "metadata": {
        "trusted": true
      },
      "outputs": [],
      "execution_count": null
    },
    {
      "cell_type": "markdown",
      "source": "We can also assign variables to different types of values. Run the kernel below to see how I've assigned a variable my_name, and introduced myself using the print function, a string, and the my_name variable.",
      "metadata": {}
    },
    {
      "cell_type": "code",
      "source": "my_name = \"Ms. Craig\"\n\nprint(\"My name is\", my_name)",
      "metadata": {
        "trusted": true
      },
      "outputs": [],
      "execution_count": null
    },
    {
      "cell_type": "markdown",
      "source": "Now it's your turn! In the kernel below, create a variable called your_name and assign it to a string with your name. Then use the print function to introduce yourself.",
      "metadata": {}
    },
    {
      "cell_type": "code",
      "source": "# Enter code here",
      "metadata": {
        "trusted": true
      },
      "outputs": [],
      "execution_count": null
    },
    {
      "cell_type": "markdown",
      "source": "Great! Variables can hold more than just strings - if we assign numbers to them, we can do math. We can perform operations on numbers using the + for addition, - for subtraction, * for multiplication, and / for division. We can also use brackets ( ) to control the order of operations.\n\nIn the kernel below, I've created variables a, b, and c. Create a new variable, d, that adds variables a and b, and then divides them by c. Then, print your variable d. Proceed when you get an output of 5.0",
      "metadata": {}
    },
    {
      "cell_type": "code",
      "source": "a = 4\nb = 11\nc = 3\n\n # Enter code here",
      "metadata": {
        "trusted": true
      },
      "outputs": [],
      "execution_count": null
    },
    {
      "cell_type": "markdown",
      "source": "We can also assign a variable to a list.\n\nWe create a list using the square brackets [ ], with each list item separated by a comma.\n\nExample: my_list = [1, 2, 3]\n\nWe can reference each item in the list by calling the variable followed by square brackets with the index number. \n\nEach item in the list has an index number, **starting at 0**. \n\nSo the first item in the list is my_list[0], the second is my_list[1], and so on.\n\nCreate a list below with the numbers 1, 2, 3, 4, and 5. Then use the print function to print the fourth number in the list. Proceed when you get an output of 4.0. ",
      "metadata": {}
    },
    {
      "cell_type": "code",
      "source": "# Enter code here.",
      "metadata": {
        "trusted": true
      },
      "outputs": [],
      "execution_count": null
    },
    {
      "cell_type": "markdown",
      "source": "Now, use the math operations and indexing to find the mean of the list above and assign it to a variable called avg. Then, print avg. Proceed when you get an output of 3.0.",
      "metadata": {}
    },
    {
      "cell_type": "code",
      "source": "# Enter code here",
      "metadata": {
        "trusted": true
      },
      "outputs": [],
      "execution_count": null
    },
    {
      "cell_type": "markdown",
      "source": "This is great, but it would be hard to do this for a list with hundreds or thousands of numbers. Luckily, Python can help us using functions.\n\nThe sum() function returns the sum of all items in a list.\nThe len() function returns the number of items in a list.\n\nUse sum() and len() to calculate the mean of my_list, and assign it to a variable new_avg. Then, print new_avg. proceed when you get an output of 3.",
      "metadata": {}
    },
    {
      "cell_type": "code",
      "source": "# Enter code here",
      "metadata": {
        "trusted": true
      },
      "outputs": [],
      "execution_count": null
    },
    {
      "cell_type": "markdown",
      "source": "Great - except we can make it even easier. \n\nWe can import Python's Numpy library to use some helpful functions.\n\nRun the kernel below to import the Numpy library.",
      "metadata": {}
    },
    {
      "cell_type": "code",
      "source": "# Run this kernel\nimport numpy as np",
      "metadata": {
        "trusted": true
      },
      "outputs": [],
      "execution_count": null
    },
    {
      "cell_type": "markdown",
      "source": "Great! Notice we imported it \"as np\". Usually, when we call functions from a library, we need to put the library name and a period before the function, like\n\nnumpy.function()\n\nSince we called it \"as np\" we can use np. before the function instead, like\n\nnp.function()\n\nNumpy actually has a built in mean() function, as well as median(). \n\nIn the kernel below, print the mean and median of my_list using np.mean() and np.median().",
      "metadata": {}
    },
    {
      "cell_type": "code",
      "source": "# Enter code here",
      "metadata": {
        "trusted": true
      },
      "outputs": [],
      "execution_count": null
    },
    {
      "cell_type": "markdown",
      "source": "Finally, we can use Numpy to find the quartiles. The np.quantile() function takes 2 arguments:\n\n1. The list to be analyzed\n2. A number or list of numbers representing the quantiles to be calculated. Values can range from 0-1.\n\nRun the kernel below to see how to use the quantile function.",
      "metadata": {}
    },
    {
      "cell_type": "code",
      "source": "# Run this kernel\nprint(np.quantile(my_list, [0, 0.5, 1]))",
      "metadata": {
        "trusted": true
      },
      "outputs": [],
      "execution_count": null
    },
    {
      "cell_type": "markdown",
      "source": "Notice that it returns the minimum (0), median (0.5), and maximum (1). We're going to need to add some values to our second list argument to return the ***quart***iles. \n\nIn the kernel below, use the np.quantile() function to print the min, q1, median, q3, and max of my_list. \n\nProceed when you get an output of [1. 2. 3. 4. 5.]",
      "metadata": {}
    },
    {
      "cell_type": "code",
      "source": "# Enter code here",
      "metadata": {
        "trusted": true
      },
      "outputs": [],
      "execution_count": null
    },
    {
      "cell_type": "markdown",
      "source": "Nice! That was a tricky one. \n\nWe can use another Python library, matplotlib, to create box plots. \n\nIn the kernel below, I've imported the Pyplot library from Matplotlib as plt, so we can call the boxplot function using plt.boxplot(). \n\nThe boxplot function takes one main argument - a list of the data you want it to create the boxplot for. This goes inside the brackets.\n\nRun the kernel to create a boxplot for my_list.",
      "metadata": {}
    },
    {
      "cell_type": "code",
      "source": "# Run this kernel\nfrom matplotlib import pyplot as plt\n\nplt.boxplot(my_list)",
      "metadata": {
        "trusted": true
      },
      "outputs": [],
      "execution_count": null
    },
    {
      "cell_type": "markdown",
      "source": "Great! It looks a little different from what we've done in class though. In the kernel below, use plt.boxplot() to create a boxplot for my_list, but this time add a second argument vert=False.",
      "metadata": {}
    },
    {
      "cell_type": "code",
      "source": "# Enter code here",
      "metadata": {
        "trusted": true
      },
      "outputs": [],
      "execution_count": null
    },
    {
      "cell_type": "markdown",
      "source": "We can also use:plt.title(\"Insert title here\"), plt.xlabel(\"Insert x-axis label here\") and plt.ylabel(\"Insert y-label axis here\") to add titles and labels.\n\nIn the kernel below, create a horizontal boxplot for my_list with a title and axis labels.",
      "metadata": {}
    },
    {
      "cell_type": "code",
      "source": "# Enter code here",
      "metadata": {
        "trusted": true
      },
      "outputs": [],
      "execution_count": null
    },
    {
      "cell_type": "markdown",
      "source": "Great job! Once you're done, call me over to check your work. Once you get the OK, you can move on to either the Cars or Anime notebook on the left hand side.",
      "metadata": {}
    }
  ]
}